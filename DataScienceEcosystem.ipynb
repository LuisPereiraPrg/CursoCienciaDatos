{
 "cells": [
  {
   "cell_type": "markdown",
   "id": "abccd1c1-dc97-4725-9606-180135c16ede",
   "metadata": {},
   "source": [
    "<h1>Data Science Tools and Ecosystem<h1>"
   ]
  },
  {
   "cell_type": "markdown",
   "id": "6c53e1ef-dd5a-4c68-868b-fa4e36449a02",
   "metadata": {},
   "source": [
    "En este cuaderno, se resumen las herramientas y ecosistemas de ciencia de datos."
   ]
  },
  {
   "cell_type": "markdown",
   "id": "74d72deb-556c-4f4c-a4d0-2d0d9d6ce421",
   "metadata": {},
   "source": [
    "**Objetivos**\n",
    "- Listar lenguajes populares para Ciencia de Datos.\n",
    "- Listar bibliotecas comunmente utilizadas por los científicos.\n",
    "- Mostrar en una tabla algunas herramientas utilizadas por los científicos de datos.\n",
    "- Mostrar ejemlos de uso de Python en cuadernos de Jupyter NoteBook"
   ]
  },
  {
   "cell_type": "markdown",
   "id": "60df5dfa-04c9-4dce-b09e-91a8fc1a6c15",
   "metadata": {},
   "source": [
    "Algunos de los lenguajes populares que utilizan los\n",
    "científicos de datos son:\n",
    "1. Python\n",
    "2. R\n",
    "3. SQL\n",
    "4. Scala\n",
    "5. Java\n",
    "6. C++\n",
    "7. Julia"
   ]
  },
  {
   "cell_type": "markdown",
   "id": "76af8ae4-d39c-4d8f-bd29-44a1663f5a2e",
   "metadata": {},
   "source": [
    "Algunas de las bibliotecas comúnmente utilizadas por los científicos de datos incluyen:\n",
    "1. Pandas\n",
    "2. NumPy\n",
    "3. Matplotlib\n",
    "4. Seaborn\n",
    "5. Scikit-learn\n",
    "6. Keras"
   ]
  },
  {
   "cell_type": "markdown",
   "id": "9dea5983-2cc6-4d30-8ee9-17def20e9010",
   "metadata": {},
   "source": [
    "| Herramientas de Ciencia de Datos |\n",
    "|---|\n",
    "| Jupyter IDE |\n",
    "| RStudio |\n",
    "| Microsoft Visual Studio |"
   ]
  },
  {
   "cell_type": "markdown",
   "id": "74e8c30d-eff2-4bbb-97a9-fa62d8f5fc06",
   "metadata": {},
   "source": [
    "<h3>A continuación, se presentan algunos ejemplos de evaluación de expresiones aritméticas en Python.<h3>"
   ]
  },
  {
   "cell_type": "code",
   "execution_count": 8,
   "id": "aec81536-f11b-433c-ad7d-0a70fae09b27",
   "metadata": {},
   "outputs": [
    {
     "data": {
      "text/plain": [
       "17"
      ]
     },
     "execution_count": 8,
     "metadata": {},
     "output_type": "execute_result"
    }
   ],
   "source": [
    "# Esta es una expresión aritmética simple para multiplicar y luego sumar enteros.\n",
    "(3*4)+5"
   ]
  },
  {
   "cell_type": "code",
   "execution_count": 9,
   "id": "fc84a76f-bd7b-4781-9ef0-c83a5570b931",
   "metadata": {},
   "outputs": [
    {
     "data": {
      "text/plain": [
       "3.3333333333333335"
      ]
     },
     "execution_count": 9,
     "metadata": {},
     "output_type": "execute_result"
    }
   ],
   "source": [
    "# Esto convertirá 200 minutos a horas dividiendo por 60.\n",
    "200 / 60"
   ]
  },
  {
   "cell_type": "markdown",
   "id": "3ffc9a21-e610-4a3c-8084-b7156794f4d6",
   "metadata": {},
   "source": [
    "<h2>Autor</h2>\n",
    "Luís Pereira Parga"
   ]
  }
 ],
 "metadata": {
  "kernelspec": {
   "display_name": "Python 3 (ipykernel)",
   "language": "python",
   "name": "python3"
  },
  "language_info": {
   "codemirror_mode": {
    "name": "ipython",
    "version": 3
   },
   "file_extension": ".py",
   "mimetype": "text/x-python",
   "name": "python",
   "nbconvert_exporter": "python",
   "pygments_lexer": "ipython3",
   "version": "3.11.7"
  }
 },
 "nbformat": 4,
 "nbformat_minor": 5
}
